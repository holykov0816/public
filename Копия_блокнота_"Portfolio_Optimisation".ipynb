{
  "nbformat": 4,
  "nbformat_minor": 0,
  "metadata": {
    "colab": {
      "name": "Копия блокнота \"Portfolio Optimisation\"",
      "provenance": [],
      "collapsed_sections": [],
      "authorship_tag": "ABX9TyN1GiXU6bXAdCoASu8Xzgqc",
      "include_colab_link": true
    },
    "kernelspec": {
      "name": "python3",
      "display_name": "Python 3"
    },
    "language_info": {
      "name": "python"
    }
  },
  "cells": [
    {
      "cell_type": "markdown",
      "metadata": {
        "id": "view-in-github",
        "colab_type": "text"
      },
      "source": [
        "<a href=\"https://colab.research.google.com/github/holykov0816/public/blob/main/%D0%9A%D0%BE%D0%BF%D0%B8%D1%8F_%D0%B1%D0%BB%D0%BE%D0%BA%D0%BD%D0%BE%D1%82%D0%B0_%22Portfolio_Optimisation%22.ipynb\" target=\"_parent\"><img src=\"https://colab.research.google.com/assets/colab-badge.svg\" alt=\"Open In Colab\"/></a>"
      ]
    },
    {
      "cell_type": "code",
      "execution_count": null,
      "metadata": {
        "colab": {
          "base_uri": "https://localhost:8080/"
        },
        "id": "xone7FDIs7OG",
        "outputId": "8f5e2ef8-2ace-4d84-d1c4-aad295d32084"
      },
      "outputs": [
        {
          "output_type": "stream",
          "name": "stdout",
          "text": [
            "Collecting yfinance\n",
            "  Downloading yfinance-0.1.68-py2.py3-none-any.whl (26 kB)\n",
            "Collecting requests>=2.26\n",
            "  Downloading requests-2.27.1-py2.py3-none-any.whl (63 kB)\n",
            "\u001b[K     |████████████████████████████████| 63 kB 1.9 MB/s \n",
            "\u001b[?25hCollecting lxml>=4.5.1\n",
            "  Downloading lxml-4.7.1-cp37-cp37m-manylinux_2_17_x86_64.manylinux2014_x86_64.manylinux_2_24_x86_64.whl (6.4 MB)\n",
            "\u001b[K     |████████████████████████████████| 6.4 MB 60.7 MB/s \n",
            "\u001b[?25hRequirement already satisfied: multitasking>=0.0.7 in /usr/local/lib/python3.7/dist-packages (from yfinance) (0.0.10)\n",
            "Requirement already satisfied: pandas>=0.24 in /usr/local/lib/python3.7/dist-packages (from yfinance) (1.1.5)\n",
            "Requirement already satisfied: numpy>=1.15 in /usr/local/lib/python3.7/dist-packages (from yfinance) (1.19.5)\n",
            "Requirement already satisfied: pytz>=2017.2 in /usr/local/lib/python3.7/dist-packages (from pandas>=0.24->yfinance) (2018.9)\n",
            "Requirement already satisfied: python-dateutil>=2.7.3 in /usr/local/lib/python3.7/dist-packages (from pandas>=0.24->yfinance) (2.8.2)\n",
            "Requirement already satisfied: six>=1.5 in /usr/local/lib/python3.7/dist-packages (from python-dateutil>=2.7.3->pandas>=0.24->yfinance) (1.15.0)\n",
            "Requirement already satisfied: urllib3<1.27,>=1.21.1 in /usr/local/lib/python3.7/dist-packages (from requests>=2.26->yfinance) (1.24.3)\n",
            "Requirement already satisfied: certifi>=2017.4.17 in /usr/local/lib/python3.7/dist-packages (from requests>=2.26->yfinance) (2021.10.8)\n",
            "Requirement already satisfied: charset-normalizer~=2.0.0 in /usr/local/lib/python3.7/dist-packages (from requests>=2.26->yfinance) (2.0.9)\n",
            "Requirement already satisfied: idna<4,>=2.5 in /usr/local/lib/python3.7/dist-packages (from requests>=2.26->yfinance) (2.10)\n",
            "Installing collected packages: requests, lxml, yfinance\n",
            "  Attempting uninstall: requests\n",
            "    Found existing installation: requests 2.23.0\n",
            "    Uninstalling requests-2.23.0:\n",
            "      Successfully uninstalled requests-2.23.0\n",
            "  Attempting uninstall: lxml\n",
            "    Found existing installation: lxml 4.2.6\n",
            "    Uninstalling lxml-4.2.6:\n",
            "      Successfully uninstalled lxml-4.2.6\n",
            "\u001b[31mERROR: pip's dependency resolver does not currently take into account all the packages that are installed. This behaviour is the source of the following dependency conflicts.\n",
            "google-colab 1.0.0 requires requests~=2.23.0, but you have requests 2.27.1 which is incompatible.\n",
            "datascience 0.10.6 requires folium==0.2.1, but you have folium 0.8.3 which is incompatible.\u001b[0m\n",
            "Successfully installed lxml-4.7.1 requests-2.27.1 yfinance-0.1.68\n"
          ]
        }
      ],
      "source": [
        "!pip install yfinance\n",
        "\n",
        "from pandas_datareader import data as web #Functions from pandas_datareader.data and pandas_datareader.wb extract data from various Internet sources into a pandas DataFrame.\n",
        "import pandas as pd\n",
        "import yfinance as yf\n",
        "import numpy as np\n",
        "from datetime import datetime # Python Datetime module supplies classes to work with date and time.\n",
        "import matplotlib.pyplot as plt # for graphs\n",
        "plt.style.use(\"fivethirtyeight\")\n",
        "\n",
        "yf.pdr_override()"
      ]
    },
    {
      "cell_type": "code",
      "source": [
        "assets = [\"MSFT\", \"FB\", 'LICY', \"AAPL\", 'EA', 'LCID', \"NFLX\", \"GOOG\", 'SPY']"
      ],
      "metadata": {
        "id": "xPeTvRGdtUUq"
      },
      "execution_count": null,
      "outputs": []
    },
    {
      "cell_type": "code",
      "source": [
        "# Assign weights to the stocks\n",
        "weights = np.array([0.05, 0.05, 0.05, 0.05, 0.05, 0.05, 0.05, 0.05, 0.60])"
      ],
      "metadata": {
        "id": "4v7zzmZSt2-K"
      },
      "execution_count": null,
      "outputs": []
    },
    {
      "cell_type": "code",
      "source": [
        "#Get the Portfolio starting date\n",
        "stockStartDate = \"2019-01-01\""
      ],
      "metadata": {
        "id": "uSMriVWbuEnE"
      },
      "execution_count": null,
      "outputs": []
    },
    {
      "cell_type": "code",
      "source": [
        "#Get the stocks ending date (today)\n",
        "today = datetime.today().strftime(\"%Y-%m-%d\")\n",
        "today"
      ],
      "metadata": {
        "colab": {
          "base_uri": "https://localhost:8080/",
          "height": 37
        },
        "id": "nYsm6C-0uVpy",
        "outputId": "8301a523-4300-49a4-8c20-4f69041942ba"
      },
      "execution_count": null,
      "outputs": [
        {
          "output_type": "execute_result",
          "data": {
            "application/vnd.google.colaboratory.intrinsic+json": {
              "type": "string"
            },
            "text/plain": [
              "'2022-01-09'"
            ]
          },
          "metadata": {},
          "execution_count": 5
        }
      ]
    },
    {
      "cell_type": "code",
      "source": [
        "#Create a dataframe to store the adjusted close price of the stocks\n",
        "df = pd.DataFrame()\n",
        "\n",
        "#Store the adjusted close price of the stock into the df\n",
        "for stock in assets:\n",
        "  df[stock] = web.DataReader(stock, data_source = 'yahoo', start = stockStartDate, end = today)[\"Adj Close\"]"
      ],
      "metadata": {
        "colab": {
          "base_uri": "https://localhost:8080/"
        },
        "id": "iERgm8jMupOZ",
        "outputId": "1b420025-36db-4fe5-99f1-89ef9ba33b7e"
      },
      "execution_count": null,
      "outputs": [
        {
          "output_type": "stream",
          "name": "stdout",
          "text": [
            "[*********************100%***********************]  1 of 1 completed\n",
            "[*********************100%***********************]  1 of 1 completed\n",
            "[*********************100%***********************]  1 of 1 completed\n",
            "[*********************100%***********************]  1 of 1 completed\n",
            "[*********************100%***********************]  1 of 1 completed\n",
            "[*********************100%***********************]  1 of 1 completed\n",
            "[*********************100%***********************]  1 of 1 completed\n",
            "[*********************100%***********************]  1 of 1 completed\n",
            "[*********************100%***********************]  1 of 1 completed\n"
          ]
        }
      ]
    },
    {
      "cell_type": "code",
      "source": [
        "df"
      ],
      "metadata": {
        "colab": {
          "base_uri": "https://localhost:8080/",
          "height": 450
        },
        "id": "fmQaZeuhu6M8",
        "outputId": "20f57669-4d51-4f6c-d9ab-95cdcceff904"
      },
      "execution_count": null,
      "outputs": [
        {
          "output_type": "execute_result",
          "data": {
            "text/html": [
              "\n",
              "  <div id=\"df-55748056-96ca-447d-82e2-1ac22e3bc485\">\n",
              "    <div class=\"colab-df-container\">\n",
              "      <div>\n",
              "<style scoped>\n",
              "    .dataframe tbody tr th:only-of-type {\n",
              "        vertical-align: middle;\n",
              "    }\n",
              "\n",
              "    .dataframe tbody tr th {\n",
              "        vertical-align: top;\n",
              "    }\n",
              "\n",
              "    .dataframe thead th {\n",
              "        text-align: right;\n",
              "    }\n",
              "</style>\n",
              "<table border=\"1\" class=\"dataframe\">\n",
              "  <thead>\n",
              "    <tr style=\"text-align: right;\">\n",
              "      <th></th>\n",
              "      <th>MSFT</th>\n",
              "      <th>FB</th>\n",
              "      <th>LICY</th>\n",
              "      <th>AAPL</th>\n",
              "      <th>EA</th>\n",
              "      <th>LCID</th>\n",
              "      <th>NFLX</th>\n",
              "      <th>GOOG</th>\n",
              "      <th>SPY</th>\n",
              "    </tr>\n",
              "    <tr>\n",
              "      <th>Date</th>\n",
              "      <th></th>\n",
              "      <th></th>\n",
              "      <th></th>\n",
              "      <th></th>\n",
              "      <th></th>\n",
              "      <th></th>\n",
              "      <th></th>\n",
              "      <th></th>\n",
              "      <th></th>\n",
              "    </tr>\n",
              "  </thead>\n",
              "  <tbody>\n",
              "    <tr>\n",
              "      <th>2019-01-02</th>\n",
              "      <td>97.782425</td>\n",
              "      <td>135.679993</td>\n",
              "      <td>NaN</td>\n",
              "      <td>38.326290</td>\n",
              "      <td>79.865685</td>\n",
              "      <td>NaN</td>\n",
              "      <td>267.660004</td>\n",
              "      <td>1045.849976</td>\n",
              "      <td>237.858841</td>\n",
              "    </tr>\n",
              "    <tr>\n",
              "      <th>2019-01-03</th>\n",
              "      <td>94.185204</td>\n",
              "      <td>131.740005</td>\n",
              "      <td>NaN</td>\n",
              "      <td>34.508713</td>\n",
              "      <td>78.216087</td>\n",
              "      <td>NaN</td>\n",
              "      <td>271.200012</td>\n",
              "      <td>1016.059998</td>\n",
              "      <td>232.182892</td>\n",
              "    </tr>\n",
              "    <tr>\n",
              "      <th>2019-01-04</th>\n",
              "      <td>98.565689</td>\n",
              "      <td>137.949997</td>\n",
              "      <td>NaN</td>\n",
              "      <td>35.981865</td>\n",
              "      <td>83.890259</td>\n",
              "      <td>NaN</td>\n",
              "      <td>297.570007</td>\n",
              "      <td>1070.709961</td>\n",
              "      <td>239.960037</td>\n",
              "    </tr>\n",
              "    <tr>\n",
              "      <th>2019-01-07</th>\n",
              "      <td>98.691391</td>\n",
              "      <td>138.050003</td>\n",
              "      <td>NaN</td>\n",
              "      <td>35.901764</td>\n",
              "      <td>87.040352</td>\n",
              "      <td>NaN</td>\n",
              "      <td>315.339996</td>\n",
              "      <td>1068.390015</td>\n",
              "      <td>241.852051</td>\n",
              "    </tr>\n",
              "    <tr>\n",
              "      <th>2019-01-08</th>\n",
              "      <td>99.406982</td>\n",
              "      <td>142.529999</td>\n",
              "      <td>NaN</td>\n",
              "      <td>36.586170</td>\n",
              "      <td>88.461388</td>\n",
              "      <td>NaN</td>\n",
              "      <td>320.269989</td>\n",
              "      <td>1076.280029</td>\n",
              "      <td>244.124298</td>\n",
              "    </tr>\n",
              "    <tr>\n",
              "      <th>...</th>\n",
              "      <td>...</td>\n",
              "      <td>...</td>\n",
              "      <td>...</td>\n",
              "      <td>...</td>\n",
              "      <td>...</td>\n",
              "      <td>...</td>\n",
              "      <td>...</td>\n",
              "      <td>...</td>\n",
              "      <td>...</td>\n",
              "    </tr>\n",
              "    <tr>\n",
              "      <th>2022-01-03</th>\n",
              "      <td>334.750000</td>\n",
              "      <td>338.540009</td>\n",
              "      <td>10.07</td>\n",
              "      <td>182.009995</td>\n",
              "      <td>134.949997</td>\n",
              "      <td>40.930000</td>\n",
              "      <td>597.369995</td>\n",
              "      <td>2901.489990</td>\n",
              "      <td>477.709991</td>\n",
              "    </tr>\n",
              "    <tr>\n",
              "      <th>2022-01-04</th>\n",
              "      <td>329.010010</td>\n",
              "      <td>336.529999</td>\n",
              "      <td>9.99</td>\n",
              "      <td>179.699997</td>\n",
              "      <td>135.759995</td>\n",
              "      <td>39.410000</td>\n",
              "      <td>591.150024</td>\n",
              "      <td>2888.330078</td>\n",
              "      <td>477.549988</td>\n",
              "    </tr>\n",
              "    <tr>\n",
              "      <th>2022-01-05</th>\n",
              "      <td>316.380005</td>\n",
              "      <td>324.170013</td>\n",
              "      <td>9.12</td>\n",
              "      <td>174.919998</td>\n",
              "      <td>133.800003</td>\n",
              "      <td>36.680000</td>\n",
              "      <td>567.520020</td>\n",
              "      <td>2753.070068</td>\n",
              "      <td>468.380005</td>\n",
              "    </tr>\n",
              "    <tr>\n",
              "      <th>2022-01-06</th>\n",
              "      <td>313.880005</td>\n",
              "      <td>332.459991</td>\n",
              "      <td>8.80</td>\n",
              "      <td>172.000000</td>\n",
              "      <td>129.690002</td>\n",
              "      <td>38.220001</td>\n",
              "      <td>553.289978</td>\n",
              "      <td>2751.020020</td>\n",
              "      <td>467.940002</td>\n",
              "    </tr>\n",
              "    <tr>\n",
              "      <th>2022-01-07</th>\n",
              "      <td>314.040009</td>\n",
              "      <td>331.790009</td>\n",
              "      <td>9.02</td>\n",
              "      <td>172.169998</td>\n",
              "      <td>131.779999</td>\n",
              "      <td>41.980000</td>\n",
              "      <td>541.059998</td>\n",
              "      <td>2740.090088</td>\n",
              "      <td>466.089996</td>\n",
              "    </tr>\n",
              "  </tbody>\n",
              "</table>\n",
              "<p>762 rows × 9 columns</p>\n",
              "</div>\n",
              "      <button class=\"colab-df-convert\" onclick=\"convertToInteractive('df-55748056-96ca-447d-82e2-1ac22e3bc485')\"\n",
              "              title=\"Convert this dataframe to an interactive table.\"\n",
              "              style=\"display:none;\">\n",
              "        \n",
              "  <svg xmlns=\"http://www.w3.org/2000/svg\" height=\"24px\"viewBox=\"0 0 24 24\"\n",
              "       width=\"24px\">\n",
              "    <path d=\"M0 0h24v24H0V0z\" fill=\"none\"/>\n",
              "    <path d=\"M18.56 5.44l.94 2.06.94-2.06 2.06-.94-2.06-.94-.94-2.06-.94 2.06-2.06.94zm-11 1L8.5 8.5l.94-2.06 2.06-.94-2.06-.94L8.5 2.5l-.94 2.06-2.06.94zm10 10l.94 2.06.94-2.06 2.06-.94-2.06-.94-.94-2.06-.94 2.06-2.06.94z\"/><path d=\"M17.41 7.96l-1.37-1.37c-.4-.4-.92-.59-1.43-.59-.52 0-1.04.2-1.43.59L10.3 9.45l-7.72 7.72c-.78.78-.78 2.05 0 2.83L4 21.41c.39.39.9.59 1.41.59.51 0 1.02-.2 1.41-.59l7.78-7.78 2.81-2.81c.8-.78.8-2.07 0-2.86zM5.41 20L4 18.59l7.72-7.72 1.47 1.35L5.41 20z\"/>\n",
              "  </svg>\n",
              "      </button>\n",
              "      \n",
              "  <style>\n",
              "    .colab-df-container {\n",
              "      display:flex;\n",
              "      flex-wrap:wrap;\n",
              "      gap: 12px;\n",
              "    }\n",
              "\n",
              "    .colab-df-convert {\n",
              "      background-color: #E8F0FE;\n",
              "      border: none;\n",
              "      border-radius: 50%;\n",
              "      cursor: pointer;\n",
              "      display: none;\n",
              "      fill: #1967D2;\n",
              "      height: 32px;\n",
              "      padding: 0 0 0 0;\n",
              "      width: 32px;\n",
              "    }\n",
              "\n",
              "    .colab-df-convert:hover {\n",
              "      background-color: #E2EBFA;\n",
              "      box-shadow: 0px 1px 2px rgba(60, 64, 67, 0.3), 0px 1px 3px 1px rgba(60, 64, 67, 0.15);\n",
              "      fill: #174EA6;\n",
              "    }\n",
              "\n",
              "    [theme=dark] .colab-df-convert {\n",
              "      background-color: #3B4455;\n",
              "      fill: #D2E3FC;\n",
              "    }\n",
              "\n",
              "    [theme=dark] .colab-df-convert:hover {\n",
              "      background-color: #434B5C;\n",
              "      box-shadow: 0px 1px 3px 1px rgba(0, 0, 0, 0.15);\n",
              "      filter: drop-shadow(0px 1px 2px rgba(0, 0, 0, 0.3));\n",
              "      fill: #FFFFFF;\n",
              "    }\n",
              "  </style>\n",
              "\n",
              "      <script>\n",
              "        const buttonEl =\n",
              "          document.querySelector('#df-55748056-96ca-447d-82e2-1ac22e3bc485 button.colab-df-convert');\n",
              "        buttonEl.style.display =\n",
              "          google.colab.kernel.accessAllowed ? 'block' : 'none';\n",
              "\n",
              "        async function convertToInteractive(key) {\n",
              "          const element = document.querySelector('#df-55748056-96ca-447d-82e2-1ac22e3bc485');\n",
              "          const dataTable =\n",
              "            await google.colab.kernel.invokeFunction('convertToInteractive',\n",
              "                                                     [key], {});\n",
              "          if (!dataTable) return;\n",
              "\n",
              "          const docLinkHtml = 'Like what you see? Visit the ' +\n",
              "            '<a target=\"_blank\" href=https://colab.research.google.com/notebooks/data_table.ipynb>data table notebook</a>'\n",
              "            + ' to learn more about interactive tables.';\n",
              "          element.innerHTML = '';\n",
              "          dataTable['output_type'] = 'display_data';\n",
              "          await google.colab.output.renderOutput(dataTable, element);\n",
              "          const docLink = document.createElement('div');\n",
              "          docLink.innerHTML = docLinkHtml;\n",
              "          element.appendChild(docLink);\n",
              "        }\n",
              "      </script>\n",
              "    </div>\n",
              "  </div>\n",
              "  "
            ],
            "text/plain": [
              "                  MSFT          FB   LICY  ...        NFLX         GOOG         SPY\n",
              "Date                                       ...                                     \n",
              "2019-01-02   97.782425  135.679993    NaN  ...  267.660004  1045.849976  237.858841\n",
              "2019-01-03   94.185204  131.740005    NaN  ...  271.200012  1016.059998  232.182892\n",
              "2019-01-04   98.565689  137.949997    NaN  ...  297.570007  1070.709961  239.960037\n",
              "2019-01-07   98.691391  138.050003    NaN  ...  315.339996  1068.390015  241.852051\n",
              "2019-01-08   99.406982  142.529999    NaN  ...  320.269989  1076.280029  244.124298\n",
              "...                ...         ...    ...  ...         ...          ...         ...\n",
              "2022-01-03  334.750000  338.540009  10.07  ...  597.369995  2901.489990  477.709991\n",
              "2022-01-04  329.010010  336.529999   9.99  ...  591.150024  2888.330078  477.549988\n",
              "2022-01-05  316.380005  324.170013   9.12  ...  567.520020  2753.070068  468.380005\n",
              "2022-01-06  313.880005  332.459991   8.80  ...  553.289978  2751.020020  467.940002\n",
              "2022-01-07  314.040009  331.790009   9.02  ...  541.059998  2740.090088  466.089996\n",
              "\n",
              "[762 rows x 9 columns]"
            ]
          },
          "metadata": {},
          "execution_count": 7
        }
      ]
    },
    {
      "cell_type": "code",
      "source": [
        "weights"
      ],
      "metadata": {
        "colab": {
          "base_uri": "https://localhost:8080/"
        },
        "id": "ZoSxOWzrzJeT",
        "outputId": "238701ab-a364-4a21-8b6d-770df01aa3e0"
      },
      "execution_count": null,
      "outputs": [
        {
          "output_type": "execute_result",
          "data": {
            "text/plain": [
              "array([0.05, 0.05, 0.05, 0.05, 0.05, 0.05, 0.05, 0.05, 0.6 ])"
            ]
          },
          "metadata": {},
          "execution_count": 8
        }
      ]
    },
    {
      "cell_type": "code",
      "source": [
        "#Visually show the stock / portfolio\n",
        "title = 'Portfolio Adj. Close Price History'\n",
        "\n",
        "#Get the stocks\n",
        "my_stocks = df\n",
        "\n",
        "#Create and plot the graph\n",
        "for c in my_stocks.columns.values:   # function of dataframe\n",
        "  plt.plot(my_stocks[c], label = c)\n",
        "\n",
        "\n",
        "plt.title(title)\n",
        "plt.xlabel('Date', fontsize = 18)\n",
        "plt.ylabel('Adj Price ($)', fontsize = 18)\n",
        "plt.legend(my_stocks.columns.values, loc = \"upper left\")\n",
        "plt.show()"
      ],
      "metadata": {
        "colab": {
          "base_uri": "https://localhost:8080/",
          "height": 301
        },
        "id": "CmfVCm5ZLjax",
        "outputId": "87adb89c-5d56-47d4-990f-17109fa3e3f6"
      },
      "execution_count": null,
      "outputs": [
        {
          "output_type": "display_data",
          "data": {
            "image/png": "[encoded data removed]",
            "text/plain": [
              "<Figure size 432x288 with 1 Axes>"
            ]
          },
          "metadata": {
            "needs_background": "light"
          }
        }
      ]
    },
    {
      "cell_type": "code",
      "source": [
        "#Show the daily simple return\n",
        "returns = df.pct_change()\n",
        "returns"
      ],
      "metadata": {
        "colab": {
          "base_uri": "https://localhost:8080/",
          "height": 450
        },
        "id": "2zIT8RjsRM4J",
        "outputId": "2d4cbc81-0a14-46c0-d36d-e577bb2a36f0"
      },
      "execution_count": null,
      "outputs": [
        {
          "output_type": "execute_result",
          "data": {
            "text/html": [
              "\n",
              "  <div id=\"df-eaaa89be-0934-470f-b396-7fd02af7b466\">\n",
              "    <div class=\"colab-df-container\">\n",
              "      <div>\n",
              "<style scoped>\n",
              "    .dataframe tbody tr th:only-of-type {\n",
              "        vertical-align: middle;\n",
              "    }\n",
              "\n",
              "    .dataframe tbody tr th {\n",
              "        vertical-align: top;\n",
              "    }\n",
              "\n",
              "    .dataframe thead th {\n",
              "        text-align: right;\n",
              "    }\n",
              "</style>\n",
              "<table border=\"1\" class=\"dataframe\">\n",
              "  <thead>\n",
              "    <tr style=\"text-align: right;\">\n",
              "      <th></th>\n",
              "      <th>MSFT</th>\n",
              "      <th>FB</th>\n",
              "      <th>LICY</th>\n",
              "      <th>AAPL</th>\n",
              "      <th>EA</th>\n",
              "      <th>LCID</th>\n",
              "      <th>NFLX</th>\n",
              "      <th>GOOG</th>\n",
              "      <th>SPY</th>\n",
              "    </tr>\n",
              "    <tr>\n",
              "      <th>Date</th>\n",
              "      <th></th>\n",
              "      <th></th>\n",
              "      <th></th>\n",
              "      <th></th>\n",
              "      <th></th>\n",
              "      <th></th>\n",
              "      <th></th>\n",
              "      <th></th>\n",
              "      <th></th>\n",
              "    </tr>\n",
              "  </thead>\n",
              "  <tbody>\n",
              "    <tr>\n",
              "      <th>2019-01-02</th>\n",
              "      <td>NaN</td>\n",
              "      <td>NaN</td>\n",
              "      <td>NaN</td>\n",
              "      <td>NaN</td>\n",
              "      <td>NaN</td>\n",
              "      <td>NaN</td>\n",
              "      <td>NaN</td>\n",
              "      <td>NaN</td>\n",
              "      <td>NaN</td>\n",
              "    </tr>\n",
              "    <tr>\n",
              "      <th>2019-01-03</th>\n",
              "      <td>-0.036788</td>\n",
              "      <td>-0.029039</td>\n",
              "      <td>NaN</td>\n",
              "      <td>-0.099607</td>\n",
              "      <td>-0.020655</td>\n",
              "      <td>NaN</td>\n",
              "      <td>0.013226</td>\n",
              "      <td>-0.028484</td>\n",
              "      <td>-0.023863</td>\n",
              "    </tr>\n",
              "    <tr>\n",
              "      <th>2019-01-04</th>\n",
              "      <td>0.046509</td>\n",
              "      <td>0.047138</td>\n",
              "      <td>NaN</td>\n",
              "      <td>0.042689</td>\n",
              "      <td>0.072545</td>\n",
              "      <td>NaN</td>\n",
              "      <td>0.097234</td>\n",
              "      <td>0.053786</td>\n",
              "      <td>0.033496</td>\n",
              "    </tr>\n",
              "    <tr>\n",
              "      <th>2019-01-07</th>\n",
              "      <td>0.001275</td>\n",
              "      <td>0.000725</td>\n",
              "      <td>NaN</td>\n",
              "      <td>-0.002226</td>\n",
              "      <td>0.037550</td>\n",
              "      <td>NaN</td>\n",
              "      <td>0.059717</td>\n",
              "      <td>-0.002167</td>\n",
              "      <td>0.007885</td>\n",
              "    </tr>\n",
              "    <tr>\n",
              "      <th>2019-01-08</th>\n",
              "      <td>0.007251</td>\n",
              "      <td>0.032452</td>\n",
              "      <td>NaN</td>\n",
              "      <td>0.019063</td>\n",
              "      <td>0.016326</td>\n",
              "      <td>NaN</td>\n",
              "      <td>0.015634</td>\n",
              "      <td>0.007385</td>\n",
              "      <td>0.009395</td>\n",
              "    </tr>\n",
              "    <tr>\n",
              "      <th>...</th>\n",
              "      <td>...</td>\n",
              "      <td>...</td>\n",
              "      <td>...</td>\n",
              "      <td>...</td>\n",
              "      <td>...</td>\n",
              "      <td>...</td>\n",
              "      <td>...</td>\n",
              "      <td>...</td>\n",
              "      <td>...</td>\n",
              "    </tr>\n",
              "    <tr>\n",
              "      <th>2022-01-03</th>\n",
              "      <td>-0.004668</td>\n",
              "      <td>0.006511</td>\n",
              "      <td>0.011044</td>\n",
              "      <td>0.025004</td>\n",
              "      <td>0.023124</td>\n",
              "      <td>0.075690</td>\n",
              "      <td>-0.008416</td>\n",
              "      <td>0.002730</td>\n",
              "      <td>0.005790</td>\n",
              "    </tr>\n",
              "    <tr>\n",
              "      <th>2022-01-04</th>\n",
              "      <td>-0.017147</td>\n",
              "      <td>-0.005937</td>\n",
              "      <td>-0.007944</td>\n",
              "      <td>-0.012692</td>\n",
              "      <td>0.006002</td>\n",
              "      <td>-0.037137</td>\n",
              "      <td>-0.010412</td>\n",
              "      <td>-0.004536</td>\n",
              "      <td>-0.000335</td>\n",
              "    </tr>\n",
              "    <tr>\n",
              "      <th>2022-01-05</th>\n",
              "      <td>-0.038388</td>\n",
              "      <td>-0.036728</td>\n",
              "      <td>-0.087087</td>\n",
              "      <td>-0.026600</td>\n",
              "      <td>-0.014437</td>\n",
              "      <td>-0.069272</td>\n",
              "      <td>-0.039973</td>\n",
              "      <td>-0.046830</td>\n",
              "      <td>-0.019202</td>\n",
              "    </tr>\n",
              "    <tr>\n",
              "      <th>2022-01-06</th>\n",
              "      <td>-0.007902</td>\n",
              "      <td>0.025573</td>\n",
              "      <td>-0.035088</td>\n",
              "      <td>-0.016693</td>\n",
              "      <td>-0.030717</td>\n",
              "      <td>0.041985</td>\n",
              "      <td>-0.025074</td>\n",
              "      <td>-0.000745</td>\n",
              "      <td>-0.000939</td>\n",
              "    </tr>\n",
              "    <tr>\n",
              "      <th>2022-01-07</th>\n",
              "      <td>0.000510</td>\n",
              "      <td>-0.002015</td>\n",
              "      <td>0.025000</td>\n",
              "      <td>0.000988</td>\n",
              "      <td>0.016115</td>\n",
              "      <td>0.098378</td>\n",
              "      <td>-0.022104</td>\n",
              "      <td>-0.003973</td>\n",
              "      <td>-0.003954</td>\n",
              "    </tr>\n",
              "  </tbody>\n",
              "</table>\n",
              "<p>762 rows × 9 columns</p>\n",
              "</div>\n",
              "      <button class=\"colab-df-convert\" onclick=\"convertToInteractive('df-eaaa89be-0934-470f-b396-7fd02af7b466')\"\n",
              "              title=\"Convert this dataframe to an interactive table.\"\n",
              "              style=\"display:none;\">\n",
              "        \n",
              "  <svg xmlns=\"http://www.w3.org/2000/svg\" height=\"24px\"viewBox=\"0 0 24 24\"\n",
              "       width=\"24px\">\n",
              "    <path d=\"M0 0h24v24H0V0z\" fill=\"none\"/>\n",
              "    <path d=\"M18.56 5.44l.94 2.06.94-2.06 2.06-.94-2.06-.94-.94-2.06-.94 2.06-2.06.94zm-11 1L8.5 8.5l.94-2.06 2.06-.94-2.06-.94L8.5 2.5l-.94 2.06-2.06.94zm10 10l.94 2.06.94-2.06 2.06-.94-2.06-.94-.94-2.06-.94 2.06-2.06.94z\"/><path d=\"M17.41 7.96l-1.37-1.37c-.4-.4-.92-.59-1.43-.59-.52 0-1.04.2-1.43.59L10.3 9.45l-7.72 7.72c-.78.78-.78 2.05 0 2.83L4 21.41c.39.39.9.59 1.41.59.51 0 1.02-.2 1.41-.59l7.78-7.78 2.81-2.81c.8-.78.8-2.07 0-2.86zM5.41 20L4 18.59l7.72-7.72 1.47 1.35L5.41 20z\"/>\n",
              "  </svg>\n",
              "      </button>\n",
              "      \n",
              "  <style>\n",
              "    .colab-df-container {\n",
              "      display:flex;\n",
              "      flex-wrap:wrap;\n",
              "      gap: 12px;\n",
              "    }\n",
              "\n",
              "    .colab-df-convert {\n",
              "      background-color: #E8F0FE;\n",
              "      border: none;\n",
              "      border-radius: 50%;\n",
              "      cursor: pointer;\n",
              "      display: none;\n",
              "      fill: #1967D2;\n",
              "      height: 32px;\n",
              "      padding: 0 0 0 0;\n",
              "      width: 32px;\n",
              "    }\n",
              "\n",
              "    .colab-df-convert:hover {\n",
              "      background-color: #E2EBFA;\n",
              "      box-shadow: 0px 1px 2px rgba(60, 64, 67, 0.3), 0px 1px 3px 1px rgba(60, 64, 67, 0.15);\n",
              "      fill: #174EA6;\n",
              "    }\n",
              "\n",
              "    [theme=dark] .colab-df-convert {\n",
              "      background-color: #3B4455;\n",
              "      fill: #D2E3FC;\n",
              "    }\n",
              "\n",
              "    [theme=dark] .colab-df-convert:hover {\n",
              "      background-color: #434B5C;\n",
              "      box-shadow: 0px 1px 3px 1px rgba(0, 0, 0, 0.15);\n",
              "      filter: drop-shadow(0px 1px 2px rgba(0, 0, 0, 0.3));\n",
              "      fill: #FFFFFF;\n",
              "    }\n",
              "  </style>\n",
              "\n",
              "      <script>\n",
              "        const buttonEl =\n",
              "          document.querySelector('#df-eaaa89be-0934-470f-b396-7fd02af7b466 button.colab-df-convert');\n",
              "        buttonEl.style.display =\n",
              "          google.colab.kernel.accessAllowed ? 'block' : 'none';\n",
              "\n",
              "        async function convertToInteractive(key) {\n",
              "          const element = document.querySelector('#df-eaaa89be-0934-470f-b396-7fd02af7b466');\n",
              "          const dataTable =\n",
              "            await google.colab.kernel.invokeFunction('convertToInteractive',\n",
              "                                                     [key], {});\n",
              "          if (!dataTable) return;\n",
              "\n",
              "          const docLinkHtml = 'Like what you see? Visit the ' +\n",
              "            '<a target=\"_blank\" href=https://colab.research.google.com/notebooks/data_table.ipynb>data table notebook</a>'\n",
              "            + ' to learn more about interactive tables.';\n",
              "          element.innerHTML = '';\n",
              "          dataTable['output_type'] = 'display_data';\n",
              "          await google.colab.output.renderOutput(dataTable, element);\n",
              "          const docLink = document.createElement('div');\n",
              "          docLink.innerHTML = docLinkHtml;\n",
              "          element.appendChild(docLink);\n",
              "        }\n",
              "      </script>\n",
              "    </div>\n",
              "  </div>\n",
              "  "
            ],
            "text/plain": [
              "                MSFT        FB      LICY  ...      NFLX      GOOG       SPY\n",
              "Date                                      ...                              \n",
              "2019-01-02       NaN       NaN       NaN  ...       NaN       NaN       NaN\n",
              "2019-01-03 -0.036788 -0.029039       NaN  ...  0.013226 -0.028484 -0.023863\n",
              "2019-01-04  0.046509  0.047138       NaN  ...  0.097234  0.053786  0.033496\n",
              "2019-01-07  0.001275  0.000725       NaN  ...  0.059717 -0.002167  0.007885\n",
              "2019-01-08  0.007251  0.032452       NaN  ...  0.015634  0.007385  0.009395\n",
              "...              ...       ...       ...  ...       ...       ...       ...\n",
              "2022-01-03 -0.004668  0.006511  0.011044  ... -0.008416  0.002730  0.005790\n",
              "2022-01-04 -0.017147 -0.005937 -0.007944  ... -0.010412 -0.004536 -0.000335\n",
              "2022-01-05 -0.038388 -0.036728 -0.087087  ... -0.039973 -0.046830 -0.019202\n",
              "2022-01-06 -0.007902  0.025573 -0.035088  ... -0.025074 -0.000745 -0.000939\n",
              "2022-01-07  0.000510 -0.002015  0.025000  ... -0.022104 -0.003973 -0.003954\n",
              "\n",
              "[762 rows x 9 columns]"
            ]
          },
          "metadata": {},
          "execution_count": 10
        }
      ]
    },
    {
      "cell_type": "code",
      "source": [
        "# Create and show the annualized covariance matrix\n",
        "cov_matrix_annual = returns.cov() * 252\n",
        "cov_matrix_annual  # Diagonal line = the variance = volatility"
      ],
      "metadata": {
        "colab": {
          "base_uri": "https://localhost:8080/",
          "height": 328
        },
        "id": "5_nkdfYlTG6R",
        "outputId": "84b09c0d-fd35-42fa-8d8a-def132439a89"
      },
      "execution_count": null,
      "outputs": [
        {
          "output_type": "execute_result",
          "data": {
            "text/html": [
              "\n",
              "  <div id=\"df-6e6ae3dd-1259-4019-9694-4e1baf0edaf0\">\n",
              "    <div class=\"colab-df-container\">\n",
              "      <div>\n",
              "<style scoped>\n",
              "    .dataframe tbody tr th:only-of-type {\n",
              "        vertical-align: middle;\n",
              "    }\n",
              "\n",
              "    .dataframe tbody tr th {\n",
              "        vertical-align: top;\n",
              "    }\n",
              "\n",
              "    .dataframe thead th {\n",
              "        text-align: right;\n",
              "    }\n",
              "</style>\n",
              "<table border=\"1\" class=\"dataframe\">\n",
              "  <thead>\n",
              "    <tr style=\"text-align: right;\">\n",
              "      <th></th>\n",
              "      <th>MSFT</th>\n",
              "      <th>FB</th>\n",
              "      <th>LICY</th>\n",
              "      <th>AAPL</th>\n",
              "      <th>EA</th>\n",
              "      <th>LCID</th>\n",
              "      <th>NFLX</th>\n",
              "      <th>GOOG</th>\n",
              "      <th>SPY</th>\n",
              "    </tr>\n",
              "  </thead>\n",
              "  <tbody>\n",
              "    <tr>\n",
              "      <th>MSFT</th>\n",
              "      <td>0.092159</td>\n",
              "      <td>0.071660</td>\n",
              "      <td>0.029302</td>\n",
              "      <td>0.080037</td>\n",
              "      <td>0.047212</td>\n",
              "      <td>0.019979</td>\n",
              "      <td>0.062556</td>\n",
              "      <td>0.069955</td>\n",
              "      <td>0.055902</td>\n",
              "    </tr>\n",
              "    <tr>\n",
              "      <th>FB</th>\n",
              "      <td>0.071660</td>\n",
              "      <td>0.124757</td>\n",
              "      <td>0.035726</td>\n",
              "      <td>0.078577</td>\n",
              "      <td>0.046942</td>\n",
              "      <td>0.038991</td>\n",
              "      <td>0.066996</td>\n",
              "      <td>0.073118</td>\n",
              "      <td>0.051710</td>\n",
              "    </tr>\n",
              "    <tr>\n",
              "      <th>LICY</th>\n",
              "      <td>0.029302</td>\n",
              "      <td>0.035726</td>\n",
              "      <td>0.259335</td>\n",
              "      <td>0.022931</td>\n",
              "      <td>0.006596</td>\n",
              "      <td>0.183964</td>\n",
              "      <td>0.033985</td>\n",
              "      <td>0.029713</td>\n",
              "      <td>0.021220</td>\n",
              "    </tr>\n",
              "    <tr>\n",
              "      <th>AAPL</th>\n",
              "      <td>0.080037</td>\n",
              "      <td>0.078577</td>\n",
              "      <td>0.022931</td>\n",
              "      <td>0.116287</td>\n",
              "      <td>0.050640</td>\n",
              "      <td>0.029476</td>\n",
              "      <td>0.062858</td>\n",
              "      <td>0.067426</td>\n",
              "      <td>0.058464</td>\n",
              "    </tr>\n",
              "    <tr>\n",
              "      <th>EA</th>\n",
              "      <td>0.047212</td>\n",
              "      <td>0.046942</td>\n",
              "      <td>0.006596</td>\n",
              "      <td>0.050640</td>\n",
              "      <td>0.110640</td>\n",
              "      <td>0.012932</td>\n",
              "      <td>0.055890</td>\n",
              "      <td>0.038528</td>\n",
              "      <td>0.031570</td>\n",
              "    </tr>\n",
              "    <tr>\n",
              "      <th>LCID</th>\n",
              "      <td>0.019979</td>\n",
              "      <td>0.038991</td>\n",
              "      <td>0.183964</td>\n",
              "      <td>0.029476</td>\n",
              "      <td>0.012932</td>\n",
              "      <td>1.146879</td>\n",
              "      <td>0.021309</td>\n",
              "      <td>0.024095</td>\n",
              "      <td>0.018816</td>\n",
              "    </tr>\n",
              "    <tr>\n",
              "      <th>NFLX</th>\n",
              "      <td>0.062556</td>\n",
              "      <td>0.066996</td>\n",
              "      <td>0.033985</td>\n",
              "      <td>0.062858</td>\n",
              "      <td>0.055890</td>\n",
              "      <td>0.021309</td>\n",
              "      <td>0.145482</td>\n",
              "      <td>0.055635</td>\n",
              "      <td>0.038037</td>\n",
              "    </tr>\n",
              "    <tr>\n",
              "      <th>GOOG</th>\n",
              "      <td>0.069955</td>\n",
              "      <td>0.073118</td>\n",
              "      <td>0.029713</td>\n",
              "      <td>0.067426</td>\n",
              "      <td>0.038528</td>\n",
              "      <td>0.024095</td>\n",
              "      <td>0.055635</td>\n",
              "      <td>0.087326</td>\n",
              "      <td>0.050069</td>\n",
              "    </tr>\n",
              "    <tr>\n",
              "      <th>SPY</th>\n",
              "      <td>0.055902</td>\n",
              "      <td>0.051710</td>\n",
              "      <td>0.021220</td>\n",
              "      <td>0.058464</td>\n",
              "      <td>0.031570</td>\n",
              "      <td>0.018816</td>\n",
              "      <td>0.038037</td>\n",
              "      <td>0.050069</td>\n",
              "      <td>0.047881</td>\n",
              "    </tr>\n",
              "  </tbody>\n",
              "</table>\n",
              "</div>\n",
              "      <button class=\"colab-df-convert\" onclick=\"convertToInteractive('df-6e6ae3dd-1259-4019-9694-4e1baf0edaf0')\"\n",
              "              title=\"Convert this dataframe to an interactive table.\"\n",
              "              style=\"display:none;\">\n",
              "        \n",
              "  <svg xmlns=\"http://www.w3.org/2000/svg\" height=\"24px\"viewBox=\"0 0 24 24\"\n",
              "       width=\"24px\">\n",
              "    <path d=\"M0 0h24v24H0V0z\" fill=\"none\"/>\n",
              "    <path d=\"M18.56 5.44l.94 2.06.94-2.06 2.06-.94-2.06-.94-.94-2.06-.94 2.06-2.06.94zm-11 1L8.5 8.5l.94-2.06 2.06-.94-2.06-.94L8.5 2.5l-.94 2.06-2.06.94zm10 10l.94 2.06.94-2.06 2.06-.94-2.06-.94-.94-2.06-.94 2.06-2.06.94z\"/><path d=\"M17.41 7.96l-1.37-1.37c-.4-.4-.92-.59-1.43-.59-.52 0-1.04.2-1.43.59L10.3 9.45l-7.72 7.72c-.78.78-.78 2.05 0 2.83L4 21.41c.39.39.9.59 1.41.59.51 0 1.02-.2 1.41-.59l7.78-7.78 2.81-2.81c.8-.78.8-2.07 0-2.86zM5.41 20L4 18.59l7.72-7.72 1.47 1.35L5.41 20z\"/>\n",
              "  </svg>\n",
              "      </button>\n",
              "      \n",
              "  <style>\n",
              "    .colab-df-container {\n",
              "      display:flex;\n",
              "      flex-wrap:wrap;\n",
              "      gap: 12px;\n",
              "    }\n",
              "\n",
              "    .colab-df-convert {\n",
              "      background-color: #E8F0FE;\n",
              "      border: none;\n",
              "      border-radius: 50%;\n",
              "      cursor: pointer;\n",
              "      display: none;\n",
              "      fill: #1967D2;\n",
              "      height: 32px;\n",
              "      padding: 0 0 0 0;\n",
              "      width: 32px;\n",
              "    }\n",
              "\n",
              "    .colab-df-convert:hover {\n",
              "      background-color: #E2EBFA;\n",
              "      box-shadow: 0px 1px 2px rgba(60, 64, 67, 0.3), 0px 1px 3px 1px rgba(60, 64, 67, 0.15);\n",
              "      fill: #174EA6;\n",
              "    }\n",
              "\n",
              "    [theme=dark] .colab-df-convert {\n",
              "      background-color: #3B4455;\n",
              "      fill: #D2E3FC;\n",
              "    }\n",
              "\n",
              "    [theme=dark] .colab-df-convert:hover {\n",
              "      background-color: #434B5C;\n",
              "      box-shadow: 0px 1px 3px 1px rgba(0, 0, 0, 0.15);\n",
              "      filter: drop-shadow(0px 1px 2px rgba(0, 0, 0, 0.3));\n",
              "      fill: #FFFFFF;\n",
              "    }\n",
              "  </style>\n",
              "\n",
              "      <script>\n",
              "        const buttonEl =\n",
              "          document.querySelector('#df-6e6ae3dd-1259-4019-9694-4e1baf0edaf0 button.colab-df-convert');\n",
              "        buttonEl.style.display =\n",
              "          google.colab.kernel.accessAllowed ? 'block' : 'none';\n",
              "\n",
              "        async function convertToInteractive(key) {\n",
              "          const element = document.querySelector('#df-6e6ae3dd-1259-4019-9694-4e1baf0edaf0');\n",
              "          const dataTable =\n",
              "            await google.colab.kernel.invokeFunction('convertToInteractive',\n",
              "                                                     [key], {});\n",
              "          if (!dataTable) return;\n",
              "\n",
              "          const docLinkHtml = 'Like what you see? Visit the ' +\n",
              "            '<a target=\"_blank\" href=https://colab.research.google.com/notebooks/data_table.ipynb>data table notebook</a>'\n",
              "            + ' to learn more about interactive tables.';\n",
              "          element.innerHTML = '';\n",
              "          dataTable['output_type'] = 'display_data';\n",
              "          await google.colab.output.renderOutput(dataTable, element);\n",
              "          const docLink = document.createElement('div');\n",
              "          docLink.innerHTML = docLinkHtml;\n",
              "          element.appendChild(docLink);\n",
              "        }\n",
              "      </script>\n",
              "    </div>\n",
              "  </div>\n",
              "  "
            ],
            "text/plain": [
              "          MSFT        FB      LICY  ...      NFLX      GOOG       SPY\n",
              "MSFT  0.092159  0.071660  0.029302  ...  0.062556  0.069955  0.055902\n",
              "FB    0.071660  0.124757  0.035726  ...  0.066996  0.073118  0.051710\n",
              "LICY  0.029302  0.035726  0.259335  ...  0.033985  0.029713  0.021220\n",
              "AAPL  0.080037  0.078577  0.022931  ...  0.062858  0.067426  0.058464\n",
              "EA    0.047212  0.046942  0.006596  ...  0.055890  0.038528  0.031570\n",
              "LCID  0.019979  0.038991  0.183964  ...  0.021309  0.024095  0.018816\n",
              "NFLX  0.062556  0.066996  0.033985  ...  0.145482  0.055635  0.038037\n",
              "GOOG  0.069955  0.073118  0.029713  ...  0.055635  0.087326  0.050069\n",
              "SPY   0.055902  0.051710  0.021220  ...  0.038037  0.050069  0.047881\n",
              "\n",
              "[9 rows x 9 columns]"
            ]
          },
          "metadata": {},
          "execution_count": 12
        }
      ]
    },
    {
      "cell_type": "code",
      "source": [
        "# Calculate the portfolio variance\n",
        "port_variance = np.dot( weights.T, np.dot(cov_matrix_annual, weights))\n",
        "port_variance"
      ],
      "metadata": {
        "colab": {
          "base_uri": "https://localhost:8080/"
        },
        "id": "3hAulurJTwbE",
        "outputId": "f26fcfaa-206e-48cf-fe94-71a11dc721cb"
      },
      "execution_count": null,
      "outputs": [
        {
          "output_type": "execute_result",
          "data": {
            "text/plain": [
              "0.04907686945026635"
            ]
          },
          "metadata": {},
          "execution_count": 13
        }
      ]
    },
    {
      "cell_type": "code",
      "source": [
        "#Calculate the portfolio volatility aka standard deviation\n",
        "port_volatility = np.sqrt(port_variance)\n",
        "port_volatility"
      ],
      "metadata": {
        "colab": {
          "base_uri": "https://localhost:8080/"
        },
        "id": "6ZFlA41qVGjg",
        "outputId": "346b6412-5d1d-4f6c-95b9-5a50778969c8"
      },
      "execution_count": null,
      "outputs": [
        {
          "output_type": "execute_result",
          "data": {
            "text/plain": [
              "0.22153299855837807"
            ]
          },
          "metadata": {},
          "execution_count": 14
        }
      ]
    },
    {
      "cell_type": "code",
      "source": [
        "#Calculate the annual portfolio return\n",
        "portfolioSimpleAnnualReturn = np.sum(returns.mean() * weights) * 252\n",
        "portfolioSimpleAnnualReturn\n"
      ],
      "metadata": {
        "colab": {
          "base_uri": "https://localhost:8080/"
        },
        "id": "HejOEBVMViyc",
        "outputId": "c5e2b49b-76c4-4263-ccde-05a2200597f9"
      },
      "execution_count": null,
      "outputs": [
        {
          "output_type": "execute_result",
          "data": {
            "text/plain": [
              "0.3466002920544739"
            ]
          },
          "metadata": {},
          "execution_count": 15
        }
      ]
    },
    {
      "cell_type": "code",
      "source": [
        "#Show the expected annual return, volatility (risk), and variance\n",
        "\n",
        "percent_var = str(round(port_variance, 2) * 100) + '%'\n",
        "percent_vols = str(round(port_volatility, 2) *100) + '%'\n",
        "percent_ret = str(round(portfolioSimpleAnnualReturn, 2) * 100) + '%'\n",
        "\n",
        "print('Expected annual return: '+ percent_ret)\n",
        "print('Annual volatility/risk: '+ percent_vols)\n",
        "print('Annual variance' + percent_var)"
      ],
      "metadata": {
        "colab": {
          "base_uri": "https://localhost:8080/"
        },
        "id": "-169Z5rUWHXC",
        "outputId": "3702cf3c-f332-493a-d561-8a1c54a40a8b"
      },
      "execution_count": null,
      "outputs": [
        {
          "output_type": "stream",
          "name": "stdout",
          "text": [
            "Expected annual return: 35.0%\n",
            "Annual volatility/risk: 22.0%\n",
            "Annual variance5.0%\n"
          ]
        }
      ]
    },
    {
      "cell_type": "code",
      "source": [
        "pip install PyPortfolioOpt"
      ],
      "metadata": {
        "colab": {
          "base_uri": "https://localhost:8080/"
        },
        "id": "2LkkG5wgYAL4",
        "outputId": "260928a9-8902-4155-a91e-accbf2126ac1"
      },
      "execution_count": null,
      "outputs": [
        {
          "output_type": "stream",
          "name": "stdout",
          "text": [
            "Collecting PyPortfolioOpt\n",
            "  Downloading PyPortfolioOpt-1.5.1-py3-none-any.whl (61 kB)\n",
            "\u001b[?25l\r\u001b[K     |█████▍                          | 10 kB 25.6 MB/s eta 0:00:01\r\u001b[K     |██████████▊                     | 20 kB 25.9 MB/s eta 0:00:01\r\u001b[K     |████████████████                | 30 kB 27.8 MB/s eta 0:00:01\r\u001b[K     |█████████████████████▍          | 40 kB 30.9 MB/s eta 0:00:01\r\u001b[K     |██████████████████████████▊     | 51 kB 33.6 MB/s eta 0:00:01\r\u001b[K     |████████████████████████████████| 61 kB 6.7 MB/s \n",
            "\u001b[?25hRequirement already satisfied: pandas>=0.19 in /usr/local/lib/python3.7/dist-packages (from PyPortfolioOpt) (1.1.5)\n",
            "Collecting cvxpy<2.0.0,>=1.1.10\n",
            "  Downloading cvxpy-1.1.18-cp37-cp37m-manylinux_2_24_x86_64.whl (2.7 MB)\n",
            "\u001b[K     |████████████████████████████████| 2.7 MB 38.8 MB/s \n",
            "\u001b[?25hRequirement already satisfied: numpy<2.0,>=1.12 in /usr/local/lib/python3.7/dist-packages (from PyPortfolioOpt) (1.19.5)\n",
            "Requirement already satisfied: scipy<2.0,>=1.3 in /usr/local/lib/python3.7/dist-packages (from PyPortfolioOpt) (1.4.1)\n",
            "Requirement already satisfied: ecos>=2 in /usr/local/lib/python3.7/dist-packages (from cvxpy<2.0.0,>=1.1.10->PyPortfolioOpt) (2.0.7.post1)\n",
            "Requirement already satisfied: osqp>=0.4.1 in /usr/local/lib/python3.7/dist-packages (from cvxpy<2.0.0,>=1.1.10->PyPortfolioOpt) (0.6.2.post0)\n",
            "Requirement already satisfied: scs>=1.1.6 in /usr/local/lib/python3.7/dist-packages (from cvxpy<2.0.0,>=1.1.10->PyPortfolioOpt) (2.1.4)\n",
            "Requirement already satisfied: qdldl in /usr/local/lib/python3.7/dist-packages (from osqp>=0.4.1->cvxpy<2.0.0,>=1.1.10->PyPortfolioOpt) (0.1.5.post0)\n",
            "Requirement already satisfied: pytz>=2017.2 in /usr/local/lib/python3.7/dist-packages (from pandas>=0.19->PyPortfolioOpt) (2018.9)\n",
            "Requirement already satisfied: python-dateutil>=2.7.3 in /usr/local/lib/python3.7/dist-packages (from pandas>=0.19->PyPortfolioOpt) (2.8.2)\n",
            "Requirement already satisfied: six>=1.5 in /usr/local/lib/python3.7/dist-packages (from python-dateutil>=2.7.3->pandas>=0.19->PyPortfolioOpt) (1.15.0)\n",
            "Installing collected packages: cvxpy, PyPortfolioOpt\n",
            "  Attempting uninstall: cvxpy\n",
            "    Found existing installation: cvxpy 1.0.31\n",
            "    Uninstalling cvxpy-1.0.31:\n",
            "      Successfully uninstalled cvxpy-1.0.31\n",
            "Successfully installed PyPortfolioOpt-1.5.1 cvxpy-1.1.18\n"
          ]
        }
      ]
    },
    {
      "cell_type": "code",
      "source": [
        "from pypfopt.efficient_frontier import EfficientFrontier\n",
        "from pypfopt import risk_models\n",
        "from pypfopt import expected_returns"
      ],
      "metadata": {
        "id": "RErs-PViYYR1"
      },
      "execution_count": null,
      "outputs": []
    },
    {
      "cell_type": "code",
      "source": [
        "# Portfolio Optimisation\n",
        "\n",
        "#Calculate the returns and the annualized sample covariance matrix of asset returns\n",
        "\n",
        "mu = expected_returns.mean_historical_return(df)\n",
        "S = risk_models.sample_cov(df)\n",
        "\n",
        "#optimize for max sharpe ratio\n",
        "ef = EfficientFrontier(mu, S)\n",
        "weights = ef.max_sharpe()\n",
        "cleaned_weights = ef.clean_weights()\n",
        "print(cleaned_weights)\n",
        "ef.portfolio_performance(verbose = True)"
      ],
      "metadata": {
        "colab": {
          "base_uri": "https://localhost:8080/"
        },
        "id": "Z9hndvM7ZA9p",
        "outputId": "c5e89111-2209-4580-8f90-39250196f2bc"
      },
      "execution_count": null,
      "outputs": [
        {
          "output_type": "stream",
          "name": "stdout",
          "text": [
            "OrderedDict([('MSFT', 0.08864), ('FB', 0.0), ('LICY', 0.0), ('AAPL', 0.67174), ('EA', 0.0), ('LCID', 0.23962), ('NFLX', 0.0), ('GOOG', 0.0), ('SPY', 0.0)])\n",
            "Expected annual return: 96.0%\n",
            "Annual volatility: 37.3%\n",
            "Sharpe Ratio: 2.52\n"
          ]
        },
        {
          "output_type": "execute_result",
          "data": {
            "text/plain": [
              "(0.9603302703660411, 0.3727159324876273, 2.5229140704825017)"
            ]
          },
          "metadata": {},
          "execution_count": 19
        }
      ]
    },
    {
      "cell_type": "code",
      "source": [
        "#Get the discrete allocation of each share per stock\n",
        "from pypfopt.discrete_allocation import DiscreteAllocation, get_latest_prices\n",
        "\n",
        "latest_prices = get_latest_prices(df)\n",
        "weights = cleaned_weights\n",
        "da = DiscreteAllocation(weights, latest_prices, total_portfolio_value = 3000000)\n",
        "\n",
        "allocation , leftover = da.lp_portfolio()\n",
        "print('Discrete allocation:', allocation)\n",
        "print('Funds remaining: ${:.2f}'.format(leftover))"
      ],
      "metadata": {
        "colab": {
          "base_uri": "https://localhost:8080/"
        },
        "id": "IAKQ-0Wua6lj",
        "outputId": "33eb25c5-35be-4ab9-fa47-1e9ec9b3f83b"
      },
      "execution_count": null,
      "outputs": [
        {
          "output_type": "stream",
          "name": "stdout",
          "text": [
            "Discrete allocation: {'MSFT': 847, 'AAPL': 11705, 'LCID': 17121}\n",
            "Funds remaining: $18.71\n"
          ]
        }
      ]
    },
    {
      "cell_type": "code",
      "source": [
        ""
      ],
      "metadata": {
        "id": "PqbsCjOedfxB"
      },
      "execution_count": null,
      "outputs": []
    }
  ]
}